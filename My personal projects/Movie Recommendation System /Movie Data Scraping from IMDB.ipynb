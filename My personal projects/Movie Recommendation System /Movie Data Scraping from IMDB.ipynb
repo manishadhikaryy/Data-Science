{
 "cells": [
  {
   "cell_type": "code",
   "execution_count": 30,
   "id": "11175894",
   "metadata": {},
   "outputs": [],
   "source": [
    "import requests\n",
    "response = requests.get('https://www.imdb.com/search/title/?count=100&groups=top_1000&sort=user_rating')"
   ]
  },
  {
   "cell_type": "code",
   "execution_count": 29,
   "id": "3f0c5f4f",
   "metadata": {},
   "outputs": [],
   "source": [
    "from bs4 import BeautifulSoup\n",
    "doc = BeautifulSoup(response.text, 'html.parser')"
   ]
  },
  {
   "cell_type": "code",
   "execution_count": 76,
   "id": "f46b4cac",
   "metadata": {},
   "outputs": [],
   "source": [
    "def getTitles(doc):\n",
    "    movie_titles = []\n",
    "    class_name = 'lister-item-header' #from the source code \n",
    "    all_title_tags = doc.find_all('h3', {'class': class_name})\n",
    "    for tags in all_title_tags:\n",
    "        title = tags.find('a').text\n",
    "        movie_titles.append(title)\n",
    "    return movie_titles"
   ]
  },
  {
   "cell_type": "code",
   "execution_count": 64,
   "id": "f2d659c6",
   "metadata": {},
   "outputs": [],
   "source": [
    "def getYears(doc):\n",
    "    movie_year = []\n",
    "    class_name = 'lister-item-year text-muted unbold' #from the source code \n",
    "    all_year_tags = doc.find_all('span', {'class': class_name})\n",
    "    for tags in all_year_tags:\n",
    "        year = tags.text.strip()[1:5]\n",
    "        movie_year.append(year)\n",
    "    return movie_year"
   ]
  },
  {
   "cell_type": "code",
   "execution_count": 72,
   "id": "c7b84bec",
   "metadata": {},
   "outputs": [
    {
     "name": "stdout",
     "output_type": "stream",
     "text": [
      "['Drama', 'Crime, Drama', 'Action, Crime, Drama', 'Action, Adventure, Drama', 'Biography, Drama, History', 'Crime, Drama', 'Crime, Drama', 'Adventure, Comedy, Drama', 'Crime, Drama', 'Biography, Drama', 'Crime, Drama, Mystery', 'Action, Adventure, Sci-Fi', 'Action, Adventure, Drama', 'Drama', 'Action, Adventure, Drama', 'Drama, Romance', 'Adventure, Western', 'Drama', 'Action, Sci-Fi', 'Biography, Crime, Drama', 'Action, Adventure, Fantasy', 'Drama', 'Action, Drama, Mystery', 'Adventure, Drama, Sci-Fi', 'Crime, Drama', 'Animation, Adventure, Family', 'Drama, War', 'Crime, Drama, Fantasy', 'Comedy, Drama, Romance', 'Crime, Drama, Mystery', 'Action, Sci-Fi', 'Crime, Drama, Thriller', 'Action, Adventure, Fantasy', 'Action, Drama, Mystery', 'Action, Drama', 'Drama, Family, Fantasy', 'Action, Adventure, Crime', 'Drama, Romance', 'Drama, Thriller', 'Drama, Music', 'Biography, Comedy, Drama', 'Action, Adventure, Drama', 'Drama, Mystery, Sci-Fi', 'Crime, Drama, Thriller', 'Biography, Drama, Music', 'Action, Adventure, Drama', 'Crime, Drama', 'Crime, Drama, Mystery', 'Action, Crime, Drama', 'Animation, Adventure, Drama', 'Drama, Romance', 'Animation, Drama, War', 'Adventure, Comedy, Sci-Fi', 'Drama, Mystery, War', 'Horror, Sci-Fi', 'Western', 'Horror, Mystery, Thriller', 'Mystery, Thriller', 'Drama, Romance, War', 'Comedy, Drama, Romance', 'Comedy, Drama, Romance', 'Action, Drama', 'Action, Crime, Thriller', 'Biography, Drama, History', 'Drama', 'Crime, Drama, Thriller', 'Animation, Drama, Fantasy', 'Animation, Action, Adventure', 'Action, Adventure, Drama', 'Action, Adventure, Sci-Fi', 'Animation, Adventure, Comedy', 'Drama, Western', 'Action, Drama', 'Action, Drama', 'Crime, Drama, Thriller', 'Comedy, Drama', 'Action, Biography, Drama', 'Biography, Crime, Drama', 'Drama, Family', 'Animation, Adventure, Family', 'Drama, Mystery, Thriller', 'Action, Drama, Mystery', 'Mystery, Thriller', 'Drama', 'Animation, Action, Adventure', 'Biography, Drama, History', 'Drama, Thriller, War', 'Action, Adventure, Sci-Fi', 'Biography, Drama, Music', 'Action, Adventure', 'Drama, War', 'Drama, Horror', 'Crime, Drama, Mystery', 'Comedy, War', 'Crime, Drama, Mystery', 'Drama, War', 'Drama, Film-Noir', 'Comedy, Drama, War', 'Comedy, Drama, Romance', 'Crime, Drama, Mystery']\n"
     ]
    }
   ],
   "source": [
    "def getGenres(doc):\n",
    "    movie_genre = []\n",
    "    class_name = 'genre' #from the source code \n",
    "    all_genre_tags = doc.find_all('span', {'class': class_name})\n",
    "    for tags in all_genre_tags:\n",
    "        genre = tags.text.strip()\n",
    "        movie_genre.append(genre)\n",
    "    return movie_genre\n",
    "print(getGenres(doc))"
   ]
  },
  {
   "cell_type": "code",
   "execution_count": 85,
   "id": "59cd35dc",
   "metadata": {},
   "outputs": [
    {
     "name": "stdout",
     "output_type": "stream",
     "text": [
      "['R', 'R', 'PG-13', 'PG-13', 'R', 'R', 'Approved', 'NA', 'R', 'NA', 'TV-MA', 'PG-13', 'PG-13', 'R', 'PG-13', 'PG-13', 'R', 'TV-MA', 'R', 'R', 'PG', 'R', 'NA', 'PG-13', 'R', 'PG', 'R', 'R', 'PG-13', 'R', 'R', 'R', 'PG', 'Not Rated', 'Not Rated', 'PG', 'Not Rated', 'Not Rated', 'R', 'R', 'R', 'NA', 'PG-13', 'R', 'R', 'R', 'R', 'R', 'R', 'G', 'R', 'Not Rated', 'PG', 'R', 'R', 'PG-13', 'R', 'PG', 'PG', 'G', 'G', 'Not Rated', 'NA', 'PG-13', 'R', 'R', 'PG', 'PG', 'PG-13', 'PG-13', 'PG', 'R', 'PG-13', 'PG-13', 'NA', 'PG-13', 'TV-14', 'TV-MA', 'PG', 'G', 'R', 'R', 'R', 'R', 'PG-13', 'R', 'Not Rated', 'R', 'R', 'PG', 'R', 'R', 'Not Rated', 'PG', 'Approved', 'Approved', 'Passed', 'G', 'Not Rated', 'Not Rated']\n"
     ]
    }
   ],
   "source": [
    "def getCertifications(doc):\n",
    "    movie_certification = []\n",
    "    movie_tags = doc.find_all('div',{'class':'lister-item-content'})\n",
    "    for tags in movie_tags:\n",
    "        certification_tags = tags.find('span', {'class': 'certificate'})\n",
    "        if certification_tags:\n",
    "            movie_certification.append(certification_tags.text)\n",
    "        else:\n",
    "            movie_certification.append('NA')\n",
    "    return movie_certification\n",
    "print(getCertifications(doc))\n"
   ]
  },
  {
   "cell_type": "code",
   "execution_count": 63,
   "id": "a273ae89",
   "metadata": {},
   "outputs": [],
   "source": [
    "def getDurations(doc):\n",
    "    movie_duration = []\n",
    "    class_name = 'runtime' #from the source code \n",
    "    all_duration_tags = doc.find_all('span', {'class': class_name})\n",
    "    for tags in all_duration_tags:\n",
    "        duration = tags.text.strip()[0:3]\n",
    "        movie_duration.append(duration)\n",
    "    return movie_duration\n"
   ]
  },
  {
   "cell_type": "code",
   "execution_count": 67,
   "id": "3ea61fb2",
   "metadata": {},
   "outputs": [],
   "source": [
    "def getRatings(doc):\n",
    "    movie_rating = []\n",
    "    class_name = 'inline-block ratings-imdb-rating' #from the source code \n",
    "    all_rating_tags = doc.find_all('div', {'class': class_name})\n",
    "    for tags in all_rating_tags:\n",
    "        rating = tags.find('strong').text\n",
    "        movie_rating.append(rating)\n",
    "    return movie_rating"
   ]
  },
  {
   "cell_type": "code",
   "execution_count": 70,
   "id": "417b836e",
   "metadata": {},
   "outputs": [],
   "source": [
    "def getUrls(doc):\n",
    "    movie_url = []\n",
    "    class_name = 'lister-item-header' #from the source code \n",
    "    all_url_tags = doc.find_all('h3', {'class': class_name})\n",
    "    for tags in all_url_tags:\n",
    "        url = 'https://www.imdb.com/' + tags.find('a')['href']\n",
    "        movie_url.append(url)\n",
    "    return movie_url"
   ]
  },
  {
   "cell_type": "code",
   "execution_count": 88,
   "id": "75feadf4",
   "metadata": {},
   "outputs": [],
   "source": [
    "import pandas as pd\n",
    "def allMovies():\n",
    "    movies_dict={\n",
    "        'title':[],\n",
    "        'genre':[],\n",
    "        'duration':[],\n",
    "        'rating':[],\n",
    "        'year':[],\n",
    "        'certification':[],\n",
    "        'url':[]\n",
    "    }\n",
    "    for i in range(1,2000,100):\n",
    "        try:\n",
    "            url = 'https://www.imdb.com/search/title/?groups=top_1000&sort=user_rating,desc&count=100&start='+str(i)+'&ref_=adv_next'\n",
    "            response = requests.get(url)\n",
    "        except:\n",
    "            break\n",
    "        \n",
    "        if response.status_code != 200:\n",
    "            break\n",
    "           \n",
    "        doc = BeautifulSoup(response.text, 'html.parser')\n",
    "        titles = getTitles(doc)\n",
    "        urls = getUrls(doc)\n",
    "        certifications = getCertifications(doc)\n",
    "        ratings = getRatings(doc)\n",
    "        durations = getDurations(doc)\n",
    "        years = getYears(doc)\n",
    "        genres = getGenres(doc)\n",
    "    \n",
    "        \n",
    "        for i in range(len(titles)):\n",
    "            movies_dict['title'].append(titles[i])\n",
    "            movies_dict['genre'].append(genres[i])\n",
    "            movies_dict['duration'].append(durations[i])\n",
    "            movies_dict['rating'].append(ratings[i])\n",
    "            movies_dict['year'].append(years[i])\n",
    "            movies_dict['certification'].append(certifications[i])\n",
    "            movies_dict['url'].append(urls[i])\n",
    "        \n",
    "    return pd.DataFrame(movies_dict)"
   ]
  },
  {
   "cell_type": "code",
   "execution_count": 89,
   "id": "9058c252",
   "metadata": {},
   "outputs": [],
   "source": [
    "movies = allMovies()\n",
    "movies.to_csv('movies.csv', index = None)"
   ]
  }
 ],
 "metadata": {
  "kernelspec": {
   "display_name": "Python 3 (ipykernel)",
   "language": "python",
   "name": "python3"
  },
  "language_info": {
   "codemirror_mode": {
    "name": "ipython",
    "version": 3
   },
   "file_extension": ".py",
   "mimetype": "text/x-python",
   "name": "python",
   "nbconvert_exporter": "python",
   "pygments_lexer": "ipython3",
   "version": "3.9.12"
  }
 },
 "nbformat": 4,
 "nbformat_minor": 5
}
